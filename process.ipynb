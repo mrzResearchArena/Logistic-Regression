{
 "cells": [
  {
   "cell_type": "code",
   "execution_count": 1,
   "metadata": {},
   "outputs": [],
   "source": [
    "import numpy as np\n",
    "np.random.seed(0)\n",
    "\n",
    "import pandas as pd"
   ]
  },
  {
   "cell_type": "code",
   "execution_count": 2,
   "metadata": {},
   "outputs": [],
   "source": [
    "def get_data():\n",
    "    df = pd.read_csv('data.csv', header=None, skiprows=1)\n",
    "\n",
    "    # just in case you're curious what's in it\n",
    "    # df.head()\n",
    "\n",
    "    # easier to work with numpy array\n",
    "    data = df.values\n",
    "\n",
    "    # shuffle it\n",
    "    np.random.shuffle(data)\n",
    "\n",
    "    # split features and labels\n",
    "    X = data[:,:-1]\n",
    "    Y = data[:,-1].astype(np.int32)\n",
    "\n",
    "    # one-hot encode the categorical data\n",
    "    # create a new matrix X2 with the correct number of columns\n",
    "    N, D = X.shape\n",
    "    X2 = np.zeros((N, D+3))\n",
    "    X2[:,0:(D-1)] = X[:,0:(D-1)] # non-categorical\n",
    "\n",
    "    # one-hot\n",
    "    for n in range(N):\n",
    "        t = int(X[n,D-1])\n",
    "        X2[n,t+D-1] = 1\n",
    "\n",
    "    # method 2\n",
    "    # Z = np.zeros((N, 4))\n",
    "    # Z[np.arange(N), X[:,D-1].astype(np.int32)] = 1\n",
    "    # # assign: X2[:,-4:] = Z\n",
    "    # assert(np.abs(X2[:,-4:] - Z).sum() < 1e-10)\n",
    "\n",
    "    # assign X2 back to X, since we don't need original anymore\n",
    "    X = X2\n",
    "\n",
    "    # split train and test\n",
    "    Xtrain = X[:-100]\n",
    "    Ytrain = Y[:-100]\n",
    "    Xtest = X[-100:]\n",
    "    Ytest = Y[-100:]\n",
    "\n",
    "    # normalize columns 1 and 2\n",
    "    for i in (1, 2):\n",
    "        m = Xtrain[:,i].mean()\n",
    "        s = Xtrain[:,i].std()\n",
    "        Xtrain[:,i] = (Xtrain[:,i] - m) / s\n",
    "        Xtest[:,i] = (Xtest[:,i] - m) / s\n",
    "\n",
    "    return Xtrain, Ytrain, Xtest, Ytest\n",
    "\n",
    "\n",
    "def get_binary_data():\n",
    "    # return only the data from the first 2 classes\n",
    "    Xtrain, Ytrain, Xtest, Ytest = get_data()\n",
    "    Xtrain = Xtrain[Ytrain <= 1]\n",
    "    Ytrain = Ytrain[Ytrain <= 1]\n",
    "    Xtest = Xtest[Ytest <= 1]\n",
    "    Ytest = Ytest[Ytest <= 1]\n",
    "    \n",
    "    # print(Xtest)\n",
    "    \n",
    "    return Xtrain, Ytrain, Xtest, Ytest\n"
   ]
  },
  {
   "cell_type": "code",
   "execution_count": 3,
   "metadata": {},
   "outputs": [],
   "source": [
    "def sigmoid(x):\n",
    "    return 1/(1+np.exp(-x))"
   ]
  },
  {
   "cell_type": "code",
   "execution_count": 4,
   "metadata": {},
   "outputs": [],
   "source": [
    "def forward(X, W, b):\n",
    "    return sigmoid( (X @ W) + b)"
   ]
  },
  {
   "cell_type": "code",
   "execution_count": 5,
   "metadata": {},
   "outputs": [],
   "source": [
    "def classificationRate(y, yHat):\n",
    "    return np.mean(y == yHat)"
   ]
  },
  {
   "cell_type": "code",
   "execution_count": 6,
   "metadata": {},
   "outputs": [],
   "source": [
    "def crossEntropy(y, yHat):\n",
    "    return -np.mean( y*np.log(yHat) + (1-y)*np.log(1-yHat) )"
   ]
  },
  {
   "cell_type": "code",
   "execution_count": 7,
   "metadata": {},
   "outputs": [],
   "source": [
    "Xtrain, Ytrain, Xtest, Ytest = get_binary_data()"
   ]
  },
  {
   "cell_type": "code",
   "execution_count": 22,
   "metadata": {},
   "outputs": [],
   "source": [
    "D = Xtrain.shape[1]    # 8\n",
    "w = np.random.randn(D) # 8,1\n",
    "b = 0 # bias term"
   ]
  },
  {
   "cell_type": "code",
   "execution_count": 23,
   "metadata": {},
   "outputs": [
    {
     "data": {
      "text/plain": [
       "array([ 0.39904635, -2.77259276,  1.95591231,  0.39009332, -0.65240858,\n",
       "       -0.39095338,  0.49374178, -0.11610394])"
      ]
     },
     "execution_count": 23,
     "metadata": {},
     "output_type": "execute_result"
    }
   ],
   "source": [
    "w"
   ]
  },
  {
   "cell_type": "code",
   "execution_count": 27,
   "metadata": {},
   "outputs": [],
   "source": [
    "trainCost = []\n",
    "testCost  = []\n",
    "\n",
    "lr = 0.001\n",
    "\n",
    "for i in range(1000):\n",
    "    pYtrain = forward(Xtrain, w, b)\n",
    "    pYtest  = forward(Xtest,  w, b)\n",
    "    \n",
    "    ctrain = crossEntropy(Ytrain, pYtrain)\n",
    "    ctest = crossEntropy(Ytest, pYtest)\n",
    "    \n",
    "    trainCost.append(ctrain)\n",
    "    testCost.append(ctest)    \n",
    "    \n",
    "    w = w - lr * (Xtrain.T @ (pYtrain - Ytrain))\n",
    "    b = b - lr * (pYtrain - Ytrain).sum()\n",
    "    # print(w)\n",
    "    "
   ]
  },
  {
   "cell_type": "code",
   "execution_count": 38,
   "metadata": {},
   "outputs": [
    {
     "name": "stdout",
     "output_type": "stream",
     "text": [
      "Final train classification_rate: 0.9746031746031746\n",
      "Final test classification_rate: 0.963855421686747\n"
     ]
    }
   ],
   "source": [
    "print(\"Final train classification_rate:\", classificationRate(Ytrain, np.round(pYtrain)))\n",
    "print(\"Final test classification_rate:\", classificationRate(Ytest, np.round(pYtest)))"
   ]
  },
  {
   "cell_type": "code",
   "execution_count": 39,
   "metadata": {},
   "outputs": [
    {
     "data": {
      "image/png": "[encoded data removed]",
      "text/plain": [
       "<Figure size 432x288 with 1 Axes>"
      ]
     },
     "metadata": {
      "needs_background": "light"
     },
     "output_type": "display_data"
    }
   ],
   "source": [
    "import matplotlib.pyplot as plt\n",
    "\n",
    "legend1, = plt.plot(trainCost, label='train cost')\n",
    "legend2, = plt.plot(testCost, label='test cost')\n",
    "plt.legend([legend1, legend2])\n",
    "plt.show()"
   ]
  },
  {
   "cell_type": "code",
   "execution_count": null,
   "metadata": {},
   "outputs": [],
   "source": []
  },
  {
   "cell_type": "code",
   "execution_count": null,
   "metadata": {},
   "outputs": [],
   "source": []
  }
 ],
 "metadata": {
  "kernelspec": {
   "display_name": "Python 3",
   "language": "python",
   "name": "python3"
  },
  "language_info": {
   "codemirror_mode": {
    "name": "ipython",
    "version": 3
   },
   "file_extension": ".py",
   "mimetype": "text/x-python",
   "name": "python",
   "nbconvert_exporter": "python",
   "pygments_lexer": "ipython3",
   "version": "3.6.8"
  }
 },
 "nbformat": 4,
 "nbformat_minor": 2
}
