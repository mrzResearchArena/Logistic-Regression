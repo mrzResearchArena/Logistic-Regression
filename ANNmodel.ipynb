{
 "cells": [
  {
   "cell_type": "code",
   "execution_count": 1,
   "metadata": {},
   "outputs": [],
   "source": [
    "# Base Imports\n",
    "import numpy as np\n",
    "import pandas as pd\n",
    "import matplotlib.pyplot as plt\n",
    "from sklearn.utils import shuffle"
   ]
  },
  {
   "cell_type": "code",
   "execution_count": 2,
   "metadata": {},
   "outputs": [],
   "source": [
    "# /content/drive/My Drive/fer2013.csv\n",
    "def softmax(A):\n",
    "    expA = np.exp(A)\n",
    "    return expA / expA.sum(axis=1, keepdims=True)\n",
    "\n",
    "\n",
    "def cost(Y, Yp):\n",
    "    return -(Y*np.log(Yp)).sum()\n",
    "\n",
    "\n",
    "def errorRate(Y, Yp):\n",
    "    return np.mean(Y != Yp)\n",
    "\n",
    "\n",
    "def oneZeroEncoding(y):\n",
    "    N = len(y)\n",
    "    K = len(set(y))\n",
    "    \n",
    "    index = np.zeros(shape=(N, K), dtype=int)\n",
    "    \n",
    "    for i, value in enumerate(y):\n",
    "        index[i, value] = 1\n",
    "        \n",
    "    return index\n",
    "\n",
    "\n",
    "def getData(balance_ones=True, Ntest=1000):\n",
    "    # images are 48x48 = 2304 size vectors\n",
    "    Y = []\n",
    "    X = []\n",
    "    first = True\n",
    "    for line in open('/home/mrz/MyDrive/Education/Deep-Learning/Codes/LogisticRegression/facial-expression-recognition/fer2013/fer2013.csv'):\n",
    "        if first:\n",
    "            first = False\n",
    "        else:\n",
    "            row = line.split(',')\n",
    "            Y.append(int(row[0]))\n",
    "            X.append([int(p) for p in row[1].split()])\n",
    "\n",
    "    X, Y = np.array(X) / 255.0, np.array(Y)\n",
    "\n",
    "    # shuffle and split\n",
    "    X, Y = shuffle(X, Y)\n",
    "    Xtrain, Ytrain = X[:-Ntest], Y[:-Ntest]\n",
    "    Xvalid, Yvalid = X[-Ntest:], Y[-Ntest:]\n",
    "\n",
    "    if balance_ones:\n",
    "        # balance the 1 class\n",
    "        X0, Y0 = Xtrain[Ytrain!=1, :], Ytrain[Ytrain!=1]\n",
    "        X1 = Xtrain[Ytrain==1, :]\n",
    "        X1 = np.repeat(X1, 9, axis=0)\n",
    "        Xtrain = np.vstack([X0, X1])\n",
    "        Ytrain = np.concatenate((Y0, [1]*len(X1)))\n",
    "\n",
    "    return Xtrain, Ytrain, Xvalid, Yvalid\n"
   ]
  },
  {
   "cell_type": "code",
   "execution_count": 3,
   "metadata": {},
   "outputs": [],
   "source": [
    "Xtrain, Ytrain, Xvalid, Yvalid = getData()"
   ]
  },
  {
   "cell_type": "code",
   "execution_count": 4,
   "metadata": {},
   "outputs": [
    {
     "data": {
      "text/plain": [
       "(39135,)"
      ]
     },
     "execution_count": 4,
     "metadata": {},
     "output_type": "execute_result"
    }
   ],
   "source": [
    "Ytrain.shape"
   ]
  },
  {
   "cell_type": "code",
   "execution_count": 5,
   "metadata": {},
   "outputs": [
    {
     "data": {
      "text/plain": [
       "(1000, 2304)"
      ]
     },
     "execution_count": 5,
     "metadata": {},
     "output_type": "execute_result"
    }
   ],
   "source": [
    "Xvalid.shape"
   ]
  },
  {
   "cell_type": "code",
   "execution_count": 6,
   "metadata": {},
   "outputs": [
    {
     "name": "stdout",
     "output_type": "stream",
     "text": [
      "{0: 4800, 1: 4779, 2: 4977, 3: 8760, 4: 5894, 5: 3892, 6: 6033}\n"
     ]
    }
   ],
   "source": [
    "d = {0:0, 1:0, 2:0, 3:0, 4:0, 5:0, 6:0,}\n",
    "\n",
    "for c in Ytrain:\n",
    "    d[c] += 1\n",
    "    \n",
    "print(d)"
   ]
  },
  {
   "cell_type": "code",
   "execution_count": 7,
   "metadata": {},
   "outputs": [
    {
     "data": {
      "text/plain": [
       "(39135, 7)"
      ]
     },
     "execution_count": 7,
     "metadata": {},
     "output_type": "execute_result"
    }
   ],
   "source": [
    "oneZeroEncoding(Ytrain).shape"
   ]
  },
  {
   "cell_type": "code",
   "execution_count": 20,
   "metadata": {},
   "outputs": [],
   "source": [
    "class ANN:\n",
    "    def __init__(self, M):\n",
    "        self.M = M\n",
    "        \n",
    "    def fit(self, X, Y, Xtest, Ytest, lr=1e-3, epochs=1000):\n",
    "        N, D = X.shape\n",
    "        K = len(set(Y))\n",
    "        \n",
    "        Y = oneZeroEncoding(Y)\n",
    "        # Ytest = oneZeroEncoding(Ytest)\n",
    "        \n",
    "        self.W1 = np.random.randn(D, self.M) / np.sqrt(D)\n",
    "        self.b1 = np.zeros(self.M)\n",
    "        \n",
    "        self.W2 = np.random.randn(self.M, K) / np.sqrt(self.M)\n",
    "        self.b2 = np.zeros(K)\n",
    "        \n",
    "    \n",
    "        \n",
    "        costs = []\n",
    "        for i in range(epochs):\n",
    "            pY, Z = self.forward(X)\n",
    "            \n",
    "            self.W1 -= lr * ( X.T @ (pY - Y) )\n",
    "            self.b1 -= lr * (pY-Y).sum()\n",
    "            \n",
    "            #if i%10 == 0:\n",
    "            #    pYtest = self.forward(Xtest)\n",
    "            #    c = cost(Ytest, pYtest)\n",
    "            #    e = errorRate(np.argmax(Ytest, axis=1), np.argmax(pYtest, axis=1))\n",
    "            #    \n",
    "            #    print('Cost: {}, Error: {}, Epoch {}'.format(c, e, i))\n",
    "            #    \n",
    "            #    costs.append(c)\n",
    "                \n",
    "        ###\n",
    "        #plt.plot(costs)\n",
    "        #plt.show()\n",
    "    \n",
    "    def forward(self, X):\n",
    "        Z = np.tanh( (X @ self.W1) + self.b1 )\n",
    "        return softmax( (Z@self.W2) + self.b2 ), Z\n",
    "    \n",
    "#     def predict(self, X):\n",
    "#         Yp = self.forward(X)\n",
    "#         return np.argmax(Yp, axis=1)\n",
    "    \n",
    "#     def accuracy(self, X, Y):\n",
    "#         prediction = self.predict(X)\n",
    "#         return 1-errorRate(Y, prediction)\n",
    "        "
   ]
  },
  {
   "cell_type": "code",
   "execution_count": 21,
   "metadata": {},
   "outputs": [],
   "source": [
    "model = ANN(200)"
   ]
  },
  {
   "cell_type": "code",
   "execution_count": 22,
   "metadata": {},
   "outputs": [
    {
     "name": "stdout",
     "output_type": "stream",
     "text": [
      "(39135, 7)\n",
      "(39135, 200)\n"
     ]
    }
   ],
   "source": [
    "model.fit(Xtrain, Ytrain, Xvalid, Yvalid, lr=1e-3, epochs=10)"
   ]
  },
  {
   "cell_type": "code",
   "execution_count": 99,
   "metadata": {},
   "outputs": [
    {
     "data": {
      "text/plain": [
       "array([6, 2, 0, 1, 6, 6, 6, 6, 5, 6, 2, 4, 5, 0, 4, 2, 5, 0, 2, 0, 2, 4,\n",
       "       1, 0, 3, 3, 1, 2, 3, 2, 1, 4, 3, 4, 6, 3, 2, 3, 2, 6, 2, 1, 5, 5,\n",
       "       1, 4, 2, 3, 0, 3, 2, 4, 6, 4, 4, 0, 5, 3, 0, 2, 3, 2, 3, 3, 0, 0,\n",
       "       3, 0, 4, 2, 1, 0, 1, 6, 4, 3, 2, 6, 3, 5, 4, 2, 5, 5, 2, 0, 0, 0,\n",
       "       4, 3, 2, 6, 5, 3, 0, 4, 3, 3, 1, 4, 4, 3, 1, 1, 3, 3, 1, 1, 5, 3,\n",
       "       2, 6, 3, 0, 6, 2, 5, 0, 3, 2, 3, 3, 1, 6, 2, 5, 5, 4, 2, 6, 2, 4,\n",
       "       3, 4, 5, 2, 3, 6, 3, 0, 2, 3, 1, 3, 5, 5, 6, 5, 3, 3, 2, 6, 4, 1,\n",
       "       0, 5, 5, 0, 4, 2, 3, 1, 3, 2, 3, 0, 0, 3, 1, 3, 6, 0, 3, 5, 4, 1,\n",
       "       1, 5, 5, 4, 5, 0, 0, 0, 3, 5, 6, 4, 3, 5, 4, 6, 5, 0, 4, 3, 0, 6,\n",
       "       3, 3, 1, 0, 3, 4, 2, 5, 6, 1, 0, 0, 0, 6, 4, 3, 3, 6, 1, 3, 1, 4,\n",
       "       6, 0, 6, 3, 6, 5, 6, 2, 4, 0, 2, 2, 4, 6, 5, 0, 0, 0, 3, 3, 2, 2,\n",
       "       0, 6, 0, 3, 4, 2, 3, 3, 3, 3, 3, 6, 3, 4, 2, 2, 5, 3, 1, 3, 0, 1,\n",
       "       2, 1, 4, 5, 4, 3, 3, 0, 3, 1, 4, 5, 6, 5, 2, 6, 1, 3, 3, 4, 4, 1,\n",
       "       1, 3, 0, 4, 3, 3, 4, 5, 3, 0, 0, 3, 3, 4, 0, 4, 1, 5, 4, 2, 6, 0,\n",
       "       3, 1, 3, 2, 3, 1, 3, 3, 3, 5, 4, 3, 6, 4, 3, 3, 0, 3, 1, 3, 1, 2,\n",
       "       0, 2, 5, 5, 3, 4, 5, 4, 1, 6, 3, 3, 2, 1, 2, 5, 0, 3, 1, 4, 3, 3,\n",
       "       6, 0, 3, 3, 4, 5, 1, 2, 4, 3, 4, 2, 2, 6, 6, 4, 1, 3, 6, 0, 2, 5,\n",
       "       3, 3, 5, 1, 1, 4, 3, 4, 0, 6, 3, 1, 6, 0, 3, 6, 6, 5, 3, 1, 4, 5,\n",
       "       2, 5, 4, 6, 3, 0, 4, 4, 0, 2, 6, 3, 3, 4, 3, 0, 4, 2, 1, 6, 1, 5,\n",
       "       3, 1, 2, 2, 6, 4, 1, 1, 6, 5, 6, 6, 0, 0, 6, 5, 0, 3, 3, 0, 2, 5,\n",
       "       5, 3, 0, 1, 1, 2, 6, 0, 2, 3, 2, 4, 3, 6, 2, 1, 5, 3, 6, 6, 4, 2,\n",
       "       0, 5, 4, 6, 2, 2, 1, 4, 1, 4, 0, 1, 3, 2, 5, 6, 3, 3, 3, 1, 0, 6,\n",
       "       0, 0, 3, 5, 5, 3, 2, 3, 1, 3, 6, 4, 6, 1, 5, 1])"
      ]
     },
     "execution_count": 99,
     "metadata": {},
     "output_type": "execute_result"
    }
   ],
   "source": [
    "model.predict(Xtest)"
   ]
  },
  {
   "cell_type": "code",
   "execution_count": 100,
   "metadata": {},
   "outputs": [
    {
     "data": {
      "text/plain": [
       "0.16400000000000003"
      ]
     },
     "execution_count": 100,
     "metadata": {},
     "output_type": "execute_result"
    }
   ],
   "source": [
    "model.accuracy(Xtest, Ytest)"
   ]
  },
  {
   "cell_type": "code",
   "execution_count": null,
   "metadata": {},
   "outputs": [],
   "source": []
  }
 ],
 "metadata": {
  "kernelspec": {
   "display_name": "Python 3",
   "language": "python",
   "name": "python3"
  },
  "language_info": {
   "codemirror_mode": {
    "name": "ipython",
    "version": 3
   },
   "file_extension": ".py",
   "mimetype": "text/x-python",
   "name": "python",
   "nbconvert_exporter": "python",
   "pygments_lexer": "ipython3",
   "version": "3.6.8"
  }
 },
 "nbformat": 4,
 "nbformat_minor": 2
}
